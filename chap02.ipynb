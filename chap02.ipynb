{
 "cells": [
  {
   "cell_type": "markdown",
   "metadata": {},
   "source": [
    "# Chapter 2: パーセプトロン"
   ]
  },
  {
   "cell_type": "code",
   "execution_count": 1,
   "metadata": {},
   "outputs": [],
   "source": [
    "import numpy as np\n",
    "from typing import Callable\n",
    "\n",
    "def make_gate(w: np.ndarray, b: float) -> Callable[[np.ndarray], int]:\n",
    "    def gate(x: np.ndarray) -> int:\n",
    "        if np.inner(w, x) + b <= 0:\n",
    "            return 0\n",
    "        else:\n",
    "            return 1\n",
    "        \n",
    "    return gate\n",
    "\n",
    "and_gate = make_gate(np.array([1., 1.]), -1.5)\n",
    "or_gate = make_gate(np.array([1., 1.]), -0.5)\n",
    "nand_gate = make_gate(np.array([-1., -1.]), 1.5)"
   ]
  },
  {
   "cell_type": "code",
   "execution_count": 2,
   "metadata": {},
   "outputs": [],
   "source": [
    "def xor_gate(x: np.ndarray) -> int:\n",
    "    return and_gate(np.array([or_gate(x), nand_gate(x)]))"
   ]
  },
  {
   "cell_type": "code",
   "execution_count": 3,
   "metadata": {},
   "outputs": [
    {
     "name": "stdout",
     "output_type": "stream",
     "text": [
      "     AND: 0, 0, 0, 1\n",
      "      OR: 0, 1, 1, 1\n",
      "    NAND: 1, 1, 1, 0\n",
      "     XOR: 0, 1, 1, 0\n"
     ]
    }
   ],
   "source": [
    "def show_table(gate: Callable[[np.ndarray], int], name: str) -> None:\n",
    "    print('%8s: %d, %d, %d, %d' % (name, gate(np.array([0, 0])), gate(np.array([0, 1])), gate(np.array([1, 0])), gate(np.array([1, 1]))))\n",
    "    \n",
    "show_table(and_gate, 'AND')\n",
    "show_table(or_gate, 'OR')\n",
    "show_table(nand_gate, 'NAND')\n",
    "show_table(xor_gate, 'XOR')"
   ]
  }
 ],
 "metadata": {
  "kernelspec": {
   "display_name": "Python 3",
   "language": "python",
   "name": "python3"
  },
  "language_info": {
   "codemirror_mode": {
    "name": "ipython",
    "version": 3
   },
   "file_extension": ".py",
   "mimetype": "text/x-python",
   "name": "python",
   "nbconvert_exporter": "python",
   "pygments_lexer": "ipython3",
   "version": "3.7.0"
  }
 },
 "nbformat": 4,
 "nbformat_minor": 2
}
