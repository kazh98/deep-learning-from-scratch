{
 "cells": [
  {
   "cell_type": "markdown",
   "metadata": {},
   "source": [
    "# Chapter 4: ニューラルネットワークの学習\n",
    "## 2乗和誤差と交差エントロピー誤差"
   ]
  },
  {
   "cell_type": "code",
   "execution_count": 1,
   "metadata": {},
   "outputs": [
    {
     "name": "stdout",
     "output_type": "stream",
     "text": [
      "====== Case. 1 ======\n",
      "MSE: 0.09750000\n",
      "CEE: 0.51082546\n",
      "\n",
      "====== Case. 2 ======\n",
      "MSE: 0.59750000\n",
      "CEE: 2.30258409\n",
      "\n"
     ]
    }
   ],
   "source": [
    "import numpy as np\n",
    "from misc.functions import mean_squared_error, cross_entropy_error\n",
    "\n",
    "t = np.array([0, 0, 1, 0, 0, 0, 0, 0, 0, 0])\n",
    "y1 = np.array([0.1, 0.05, 0.6, 0.0, 0.05, 0.1, 0.0, 0.1, 0.0, 0.0])\n",
    "y2 = np.array([0.1, 0.05, 0.1, 0.0, 0.05, 0.1, 0.0, 0.6, 0.0, 0.0])\n",
    "\n",
    "print('====== Case. 1 ======')\n",
    "print('MSE: %.8f' % mean_squared_error(y1, t))\n",
    "print('CEE: %.8f' % cross_entropy_error(y1, t))\n",
    "print()\n",
    "print('====== Case. 2 ======')\n",
    "print('MSE: %.8f' % mean_squared_error(y2, t))\n",
    "print('CEE: %.8f' % cross_entropy_error(y2, t))\n",
    "print()"
   ]
  },
  {
   "cell_type": "markdown",
   "metadata": {},
   "source": [
    "## 損失関数計算のバッチ処理"
   ]
  },
  {
   "cell_type": "code",
   "execution_count": 2,
   "metadata": {},
   "outputs": [
    {
     "name": "stdout",
     "output_type": "stream",
     "text": [
      "====== Batch Processing ======\n",
      "MSE: 0.34750000\n",
      "CEE: 1.40670478\n",
      "\n"
     ]
    }
   ],
   "source": [
    "import numpy as np\n",
    "from misc.functions import cross_entropy_error\n",
    "\n",
    "t = np.array([0, 0, 1, 0, 0, 0, 0, 0, 0, 0])\n",
    "y = np.array([[0.1, 0.05, 0.6, 0.0, 0.05, 0.1, 0.0, 0.1, 0.0, 0.0],\n",
    "              [0.1, 0.05, 0.1, 0.0, 0.05, 0.1, 0.0, 0.6, 0.0, 0.0]])\n",
    "print('====== Batch Processing ======')\n",
    "print('MSE: %.8f' % mean_squared_error(y, t))\n",
    "print('CEE: %.8f' % cross_entropy_error(y, t))\n",
    "print('')"
   ]
  },
  {
   "cell_type": "markdown",
   "metadata": {},
   "source": [
    "## ニューラルネットワークと勾配"
   ]
  },
  {
   "cell_type": "code",
   "execution_count": 3,
   "metadata": {},
   "outputs": [
    {
     "data": {
      "text/plain": [
       "array([[ 0.21924757,  0.14356243, -0.36281   ],\n",
       "       [ 0.32887136,  0.21534364, -0.544215  ]])"
      ]
     },
     "execution_count": 3,
     "metadata": {},
     "output_type": "execute_result"
    }
   ],
   "source": [
    "import numpy as np\n",
    "from misc.neuralnet import SimpleNet\n",
    "\n",
    "net = SimpleNet()\n",
    "net.W = np.array([[0.47355232, 0.9977393, 0.84668094],\n",
    "                 [0.85557411, 0.03563661, 0.69422093]])\n",
    "x = np.array([0.6, 0.9])\n",
    "t = np.array([0, 0, 1])\n",
    "\n",
    "net.numerical_gradient(x, t)"
   ]
  },
  {
   "cell_type": "markdown",
   "metadata": {},
   "source": [
    "## MNIST データセットの学習"
   ]
  },
  {
   "cell_type": "code",
   "execution_count": 4,
   "metadata": {},
   "outputs": [
    {
     "data": {
      "text/plain": [
       "0.1028"
      ]
     },
     "execution_count": 4,
     "metadata": {},
     "output_type": "execute_result"
    }
   ],
   "source": [
    "import numpy as np\n",
    "from misc.neuralnet import TwoLayerNet\n",
    "from misc.mnist import load_train_data, load_test_data\n",
    "\n",
    "n_iter = 1\n",
    "batch_size = 10\n",
    "alpha = 0.1\n",
    "\n",
    "X_train, y_train = load_train_data(True)\n",
    "X_test, y_test = load_test_data(True)\n",
    "\n",
    "X_train = X_train.astype(np.float_) / 255\n",
    "X_test = X_test.astype(np.float_) / 255\n",
    "\n",
    "network = TwoLayerNet(784, 50, 10)\n",
    "for k in range(n_iter):\n",
    "    batch_mask = np.random.choice(X_train.shape[0], batch_size)\n",
    "    X_batch = X_train[batch_mask]\n",
    "    y_batch = y_train[batch_mask]\n",
    "    \n",
    "    grad = network.numerical_gradient(X_batch, y_batch)\n",
    "    for key in grad.keys():\n",
    "        network.params[key] -= alpha * grad[key]\n",
    "        \n",
    "network.score(X_test, y_test)"
   ]
  }
 ],
 "metadata": {
  "kernelspec": {
   "display_name": "Python 3",
   "language": "python",
   "name": "python3"
  },
  "language_info": {
   "codemirror_mode": {
    "name": "ipython",
    "version": 3
   },
   "file_extension": ".py",
   "mimetype": "text/x-python",
   "name": "python",
   "nbconvert_exporter": "python",
   "pygments_lexer": "ipython3",
   "version": "3.6.6"
  }
 },
 "nbformat": 4,
 "nbformat_minor": 2
}
